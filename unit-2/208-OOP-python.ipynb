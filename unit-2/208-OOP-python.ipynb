{
 "cells": [
  {
   "cell_type": "markdown",
   "id": "e46ea199",
   "metadata": {},
   "source": [
    "# Object oriented programming (OOP) with Python\n",
    "\n",
    "## A. Public, Protected, Private Members\n",
    "\n",
    "Classical object-oriented languages, such as C++ and Java, control the access to class resources by public, private, and protected keywords.\n",
    "\n",
    "Private members of the class are denied access from the environment outside the class. They can be handled only from within the class.\n",
    "\n",
    "As we will see below, Python ONLY provides conceptual implementation of public, protected, and private access modifiers, but not like other languages like C#, Java, C++.\n",
    "\n",
    "\n",
    "\n",
    "#### Lecture reference: \n",
    "\n",
    "https://www.tutorialsteacher.com/python/public-private-protected-modifiers\n",
    "\n",
    "### Public Members\n",
    "Public members (generally methods declared in a class) are accessible from outside the class.\n",
    "\n",
    "The object of the same class is required to invoke a public method. This arrangement of private instance variables and public methods ensures the principle of data encapsulation.\n",
    "\n",
    "All members in a Python class are public by default. Any member can be accessed from outside the class environment."
   ]
  },
  {
   "cell_type": "code",
   "execution_count": 1,
   "id": "8a72b62f",
   "metadata": {},
   "outputs": [],
   "source": [
    "class Student:\n",
    "    schoolName = 'Yachay Tech Unversity' # class attribute\n",
    "\n",
    "    def __init__(self, name, age):\n",
    "        self.name=name # instance attribute\n",
    "        self.age=age # instance attribute"
   ]
  },
  {
   "cell_type": "markdown",
   "id": "98ffd001",
   "metadata": {},
   "source": [
    "You can access the Student class's attributes and also modify their values, as shown below."
   ]
  },
  {
   "cell_type": "code",
   "execution_count": 2,
   "id": "f2738091",
   "metadata": {},
   "outputs": [
    {
     "name": "stdout",
     "output_type": "stream",
     "text": [
      "Yachay Tech Unversity\n",
      "Ferenc\n",
      "22\n"
     ]
    }
   ],
   "source": [
    "# Call the class\n",
    "std = Student(\"Ferenc\", 22)\n",
    "\n",
    "print(std.schoolName)  # Printing class attribute\n",
    "print(std.name)  # Printing instance attribute\n",
    "print(std.age)  # Printing instance attribute"
   ]
  },
  {
   "cell_type": "code",
   "execution_count": 3,
   "id": "95d3b16b",
   "metadata": {},
   "outputs": [
    {
     "name": "stdout",
     "output_type": "stream",
     "text": [
      "20\n"
     ]
    }
   ],
   "source": [
    "# Modify age value\n",
    "std.age = 20\n",
    "\n",
    "print(std.age)"
   ]
  },
  {
   "cell_type": "markdown",
   "id": "05770fcf",
   "metadata": {},
   "source": [
    "## Protected Members\n",
    "Protected members of a class are accessible from within the class and are also available to its sub-classes.\n",
    "\n",
    "No other environment is permitted access to it. This enables specific resources of the parent class to be inherited by the child class.\n",
    "\n",
    "Python's convention to make an instance variable protected is to add a prefix _ (single underscore) to it. This effectively prevents it from being accessed unless it is from within a sub-class."
   ]
  },
  {
   "cell_type": "code",
   "execution_count": 6,
   "id": "2331135e",
   "metadata": {},
   "outputs": [],
   "source": [
    "class Student:\n",
    "    \n",
    "    _schoolName = 'Yachay Tech Unversity' # protected class attribute\n",
    "    \n",
    "    def __init__(self, name, age):\n",
    "        \n",
    "        self._name = name  # protected instance attribute\n",
    "        \n",
    "        self._age = age # protected instance attribute"
   ]
  },
  {
   "cell_type": "markdown",
   "id": "c7694682",
   "metadata": {},
   "source": [
    "Note that this doesn't prevent instance variables from accessing or modifying the instance.\n",
    "\n",
    "You can still perform the following operations:"
   ]
  },
  {
   "cell_type": "code",
   "execution_count": 8,
   "id": "8fe64cec",
   "metadata": {},
   "outputs": [
    {
     "name": "stdout",
     "output_type": "stream",
     "text": [
      "Ferenc\n",
      "Csenge\n"
     ]
    }
   ],
   "source": [
    "std1 = Student(\"Ferenc\", 25)\n",
    "print(std1._name)  #'Ferenc'\n",
    "\n",
    "std1._name = 'Csenge'\n",
    "print(std1._name)  #'Csenge'"
   ]
  },
  {
   "cell_type": "markdown",
   "id": "ea4de698",
   "metadata": {},
   "source": [
    "However, you can define a property using property decorator and make it protected, as shown below."
   ]
  },
  {
   "cell_type": "code",
   "execution_count": 9,
   "id": "da5d3174",
   "metadata": {},
   "outputs": [],
   "source": [
    "class Student:\n",
    "    \n",
    "    def __init__(self,name):\n",
    "        self._name = name\n",
    "        \n",
    "    @property\n",
    "    def name(self):\n",
    "        return self._name\n",
    "    \n",
    "    @name.setter\n",
    "    def name(self,newname):\n",
    "        self._name = newname"
   ]
  },
  {
   "cell_type": "markdown",
   "id": "65e481db",
   "metadata": {},
   "source": [
    "Above:\n",
    "\n",
    "- @property decorator is used to make the name() method a property. This decorator transforms the ``name`` method into a property. This means you can access the student's name like an attribute (e.g., student.name) rather than calling a method (student.name()).\n",
    "\n",
    "- @name.setter decorator is used to overload the name() method as property setter method. This line updates the ``_name`` attribute with the newname value.\n",
    "\n",
    "Now, _name is protected.\n",
    "\n",
    "- You can get the name using `student.name` (read-only access via the `@property`).\n",
    "\n",
    "- You can set the name using `student.name = \"New Name\"` (write access via the `@name.setter`).\n",
    "\n",
    "- **Encapsulation:** Properties allow you to control how attributes are accessed and modified. You can add validation or other logic within the getter and setter methods."
   ]
  },
  {
   "cell_type": "code",
   "execution_count": 10,
   "id": "5571e560",
   "metadata": {},
   "outputs": [
    {
     "name": "stdout",
     "output_type": "stream",
     "text": [
      "Ferenc\n",
      "Ferenc\n",
      "Csenge\n",
      "Csenge\n"
     ]
    }
   ],
   "source": [
    "std = Student(\"Ferenc\")\n",
    "print(std.name)  #'Ferenc'\n",
    "print(std._name) #'Ferenc'\n",
    "\n",
    "std._name = 'Csenge'\n",
    "print(std.name)  #'Csenge'\n",
    "print(std._name) #'Csenge'"
   ]
  },
  {
   "cell_type": "markdown",
   "id": "975b0c40",
   "metadata": {},
   "source": [
    "Above, we used std.name property to modify _name attribute.\n",
    "\n",
    "However, it is still accessible in Python.\n",
    "\n",
    "Hence, the responsible programmer would refrain from accessing and modifying instance variables prefixed with _ from outside its class.\n",
    "\n",
    "### Why use properties?\n",
    "\n",
    "- If you're writing a small, simple program where data integrity is not critical, direct attribute access might be sufficient.\n",
    "\n",
    "- However, for larger, more complex programs, or when you need to enforce data validation or maintain flexibility, properties are highly recommended. They promote cleaner, more maintainable, and more robust code.\n",
    "  \n",
    "- It is generally considered good programming practice to use properties in object oriented programming (OOP).\n",
    "\n",
    "## Adding Validation:"
   ]
  },
  {
   "cell_type": "code",
   "execution_count": 11,
   "id": "5a0c089a-cffb-4a86-8864-ff593fd5809c",
   "metadata": {},
   "outputs": [],
   "source": [
    "class Student:\n",
    "    def __init__(self, name, age):\n",
    "        self._name = name\n",
    "        self._age = age\n",
    "\n",
    "    @property\n",
    "    def name(self):\n",
    "        return self._name\n",
    "\n",
    "    @name.setter\n",
    "    def name(self, new_name):\n",
    "        if not isinstance(new_name, str):\n",
    "            raise TypeError(\"Name must be a string\")\n",
    "        if not new_name: #check if the string is empty\n",
    "            raise ValueError(\"Name cannot be empty\")\n",
    "        self._name = new_name\n",
    "\n",
    "    @property\n",
    "    def age(self):\n",
    "        return self._age\n",
    "\n",
    "    @age.setter\n",
    "    def age(self, new_age):\n",
    "        if not isinstance(new_age, int):\n",
    "            raise TypeError(\"Age must be an integer\")\n",
    "        if new_age <= 0 or new_age > 120: #reasonable age range\n",
    "            raise ValueError(\"Age must be a positive integer and within a reasonable range\")\n",
    "        self._age = new_age"
   ]
  },
  {
   "cell_type": "code",
   "execution_count": 20,
   "id": "666692a8-595e-4123-900b-a9c1c3d87708",
   "metadata": {},
   "outputs": [
    {
     "name": "stdout",
     "output_type": "stream",
     "text": [
      "Student: Alice, Age: 20\n",
      "Student: Bob, Age: 21\n",
      "Error: Name must be a string\n",
      "Error: Name cannot be empty\n",
      "Error: Age must be an integer\n"
     ]
    }
   ],
   "source": [
    "# Example usage:\n",
    "try:\n",
    "    # Create intsnace of the class\n",
    "    student = Student(\"Alice\", 20)\n",
    "    print(f\"Student: {student.name}, Age: {student.age}\")\n",
    "\n",
    "    # calling the setters -> See decorators\n",
    "    student.name = \"Bob\"\n",
    "    student.age = 21\n",
    "    print(f\"Student: {student.name}, Age: {student.age}\")\n",
    "\n",
    "    # Call age.setter\n",
    "    #student.age = -5  # This will raise a ValueError]\n",
    "    student.name = 45.3\n",
    "except (TypeError, ValueError) as e:\n",
    "    #print(e)\n",
    "    print(f\"Error: {e}\")\n",
    "\n",
    "\n",
    "try:\n",
    "    student.name = \"\" #This will raise a ValueError\n",
    "except (TypeError, ValueError) as e:\n",
    "    print(f\"Error: {e}\")\n",
    "\n",
    "try:\n",
    "    student.age = \"twenty\" #This will raise a TypeError\n",
    "except (TypeError, ValueError) as e:\n",
    "    print(f\"Error: {e}\")\n"
   ]
  },
  {
   "cell_type": "markdown",
   "id": "3158cf4a-3e7f-4f03-a53c-570ce43518bc",
   "metadata": {},
   "source": [
    "## Validation using pytest:\n",
    "\n",
    "### student.py\n",
    "\n",
    "```python\n",
    "class Student:\n",
    "    def __init__(self, name, age):\n",
    "        self._name = name\n",
    "        self._age = age\n",
    "\n",
    "    @property\n",
    "    def name(self):\n",
    "        return self._name\n",
    "\n",
    "    @name.setter\n",
    "    def name(self, new_name):\n",
    "        if not isinstance(new_name, str):\n",
    "            raise TypeError(\"Name must be a string\")\n",
    "        if not new_name:\n",
    "            raise ValueError(\"Name cannot be empty\")\n",
    "        self._name = new_name\n",
    "\n",
    "    @property\n",
    "    def age(self):\n",
    "        return self._age\n",
    "\n",
    "    @age.setter\n",
    "    def age(self, new_age):\n",
    "        if not isinstance(new_age, int):\n",
    "            raise TypeError(\"Age must be an integer\")\n",
    "        if new_age <= 0 or new_age > 110:\n",
    "            raise ValueError(\"Age must be a positive integer and within a reasonable range\")\n",
    "        self._age = new_age\n",
    "\n",
    "    @classmethod\n",
    "    def setup_class(cls):\n",
    "        # Set up class-level resources (e.g., database connections)\n",
    "        print(\"Setting up shared_data.\")\n",
    "        cls.shared_data = \"Shared data in class\"\n",
    "\n",
    "    @classmethod\n",
    "    def teardown_class(cls):\n",
    "        # Tear down class-level resources\n",
    "        print(\"Tearing down shared_data.\")\n",
    "        # Clean up anything created in setup_class (standard for writing tests).\n",
    "        del cls.shared_data\n",
    "```       \n",
    "\n",
    "### test_student.py\n",
    "\n",
    "```python\n",
    "import pytest\n",
    "from student import Student\n",
    "\n",
    "class TestStudent:\n",
    "\n",
    "    #call the class methods from the student class:\n",
    "    \n",
    "    @classmethod\n",
    "    def setup_class(cls):\n",
    "        Student.setup_class()\n",
    "\n",
    "    @classmethod\n",
    "    def teardown_class(cls):\n",
    "        Student.teardown_class()\n",
    "\n",
    "    # Validation tests: (8 routines)\n",
    "\n",
    "    # Tests the initialization of a Student object with valid name and age.\n",
    "    def test_student_initialization(self):\n",
    "        student = Student(\"Alice\", 20)\n",
    "        assert student.name == \"Alice\"\n",
    "        assert student.age == 20\n",
    "\n",
    "    # Tests the ability to change a Student's name using the name setter.\n",
    "    def test_student_name_setter(self):\n",
    "        student = Student(\"Alice\", 20)\n",
    "        student.name = \"Bob\"\n",
    "        assert student.name == \"Bob\"\n",
    "\n",
    "    # Tests the ability to change a Student's age using the age setter.\n",
    "    def test_student_age_setter(self):\n",
    "        student = Student(\"Alice\", 20)\n",
    "        student.age = 21\n",
    "        assert student.age == 21\n",
    "\n",
    "    # Tests that a ValueError is raised when attempting to set an empty name.\n",
    "    def test_student_name_validation_raises(self):\n",
    "        student = Student(\"Alice\", 20)\n",
    "        with pytest.raises(ValueError):\n",
    "            student.name = \"\"\n",
    "\n",
    "    # Tests that a ValueError is raised when attempting to set an unreasonable (negative) age.\n",
    "    def test_student_age_validation_raises(self):\n",
    "        student = Student(\"Alice\", 20)\n",
    "        with pytest.raises(ValueError):\n",
    "            student.age = -10 # Unreasonable age\n",
    "\n",
    "    def test_student_age_type_validation_raises(self):\n",
    "        student = Student(\"Alice\", 20)\n",
    "        # This ttempts to assign the string value \"twenty\" to the age property of the student object.\n",
    "        with pytest.raises(TypeError):\n",
    "            student.age = \"twenty\"\n",
    "\n",
    "    # Verify that your Student class correctly raises a TypeError when you attempt to assign a non-string value to the name property.\n",
    "    def test_student_name_type_validation_raises(self):\n",
    "        student = Student(\"Alice\",20)\n",
    "        with pytest.raises(TypeError):\n",
    "            student.name = 20\n",
    "\n",
    "    # Checking for the Attribute. hasattr(Student, \"shared_data\") checks if the Student class has an attribute named \"shared_data\".\n",
    "    def test_class_resource_exists(self):\n",
    "        assert hasattr(Student, \"shared_data\")\n",
    "```\n",
    "\n",
    "\n",
    "In the command line, you need to execute pytest:\n",
    "\n",
    "``pytest test_student.py``\n",
    "\n",
    "That calls the ``setup_class`` and ``teardown_class`` class methods, and then performs all the 8 tests below:"
   ]
  },
  {
   "cell_type": "markdown",
   "id": "896e734d",
   "metadata": {},
   "source": [
    "## Private Members\n",
    "\n",
    "- Python doesn't have any mechanism that effectively restricts access to any instance variable or method.\n",
    "\n",
    "- Python prescribes a convention of prefixing the name of the variable/method with a single or double underscore to emulate the behavior of protected and private access specifiers.\n",
    "\n",
    "The double underscore ``__`` prefixed to a variable makes it private.\n",
    "\n",
    "It gives a strong suggestion not to touch it from outside the class.\n",
    "\n",
    "Any attempt to do so will result in an **AttributeError:**"
   ]
  },
  {
   "cell_type": "code",
   "execution_count": 21,
   "id": "e6c635c2",
   "metadata": {},
   "outputs": [],
   "source": [
    "class Student:\n",
    "    \n",
    "    __schoolName = 'Yachay Tech Unversity' # private class attribute\n",
    "\n",
    "    def __init__(self, name, age):\n",
    "        \n",
    "        self.__name=name  # private instance attribute\n",
    "        self.__salary=age # private instance attribute\n",
    "        \n",
    "    def __display(self):  # private method\n",
    "        \n",
    "        print('This is private method.')"
   ]
  },
  {
   "cell_type": "code",
   "execution_count": 22,
   "id": "85a379a6",
   "metadata": {},
   "outputs": [],
   "source": [
    "std = Student(\"Ferenc\", 22)"
   ]
  },
  {
   "cell_type": "code",
   "execution_count": 23,
   "id": "7570d867",
   "metadata": {},
   "outputs": [
    {
     "ename": "AttributeError",
     "evalue": "'Student' object has no attribute '__schoolName'",
     "output_type": "error",
     "traceback": [
      "\u001b[0;31m---------------------------------------------------------------------------\u001b[0m",
      "\u001b[0;31mAttributeError\u001b[0m                            Traceback (most recent call last)",
      "Cell \u001b[0;32mIn[23], line 1\u001b[0m\n\u001b[0;32m----> 1\u001b[0m \u001b[38;5;28mprint\u001b[39m(\u001b[43mstd\u001b[49m\u001b[38;5;241;43m.\u001b[39;49m\u001b[43m__schoolName\u001b[49m)\n",
      "\u001b[0;31mAttributeError\u001b[0m: 'Student' object has no attribute '__schoolName'"
     ]
    }
   ],
   "source": [
    "print(std.__schoolName) #AttributeError"
   ]
  },
  {
   "cell_type": "markdown",
   "id": "f5741a83",
   "metadata": {},
   "source": [
    "Python performs name mangling of private variables.\n",
    "\n",
    "Every member with a double underscore will be changed to _object._class__variable.\n",
    "\n",
    "So, it can still be accessed from outside the class, but the practice should be refrained."
   ]
  },
  {
   "cell_type": "code",
   "execution_count": 26,
   "id": "35cd87d8",
   "metadata": {},
   "outputs": [
    {
     "name": "stdout",
     "output_type": "stream",
     "text": [
      "Bill\n"
     ]
    }
   ],
   "source": [
    "std = Student(\"Bill\", 25)\n",
    "\n",
    "print(std._Student__name)  #'Bill'"
   ]
  },
  {
   "cell_type": "code",
   "execution_count": 27,
   "id": "b7c74fc1",
   "metadata": {},
   "outputs": [
    {
     "name": "stdout",
     "output_type": "stream",
     "text": [
      "Helen\n",
      "This is private method.\n"
     ]
    }
   ],
   "source": [
    "std._Student__name = 'Helen'\n",
    "\n",
    "print(std._Student__name)  #'Steve'\n",
    "\n",
    "std._Student__display()  #'This is private method.'"
   ]
  },
  {
   "cell_type": "markdown",
   "id": "35c422fd",
   "metadata": {},
   "source": [
    "##  B. Decorators in Python\n",
    "\n",
    "In programming, a **decorator** is a design pattern that adds additional responsibilities to an object dynamically.\n",
    "\n",
    "In Python, a function is the first-order object. Thus, a decorator in Python adds additional responsibilities or functionalities to a function dynamically without modifying a function.\n",
    "\n",
    "In Python, a function can be passed as an argument to another function. It is also possible to define a function inside another function, and a function can return another function.\n",
    "\n",
    "Therefore, a decorator in Python is a function that receives another function as an argument. The behavior of the argument function is extended by the decorator without actually modifying it. The decorator function can be applied over a function using the **@decorator** syntax.\n",
    "\n",
    "\n",
    "#### Structure of decorators:\n",
    "The typical decorator function will look like below:\n",
    "\n",
    "\n",
    "```python\n",
    "def mydecoratorfunction(some_function): # decorator function\n",
    "    \n",
    "    def inner_function(): \n",
    "        # write code to extend the behavior of some_function()\n",
    "        some_function() # call some_function\n",
    "        # write code to extend the behavior of some_function()\n",
    "\n",
    "    return inner_function # return a wrapper function\n",
    "```\n",
    "\n",
    "#### Step-by-step example on decorators:\n",
    "\n",
    "Consider that we have the greet() function, as shown below."
   ]
  },
  {
   "cell_type": "code",
   "execution_count": 28,
   "id": "a7a2d0bd",
   "metadata": {},
   "outputs": [],
   "source": [
    "def greet():\n",
    "    \n",
    "    print('Hola, ', end='')"
   ]
  },
  {
   "cell_type": "markdown",
   "id": "d4be0d57",
   "metadata": {},
   "source": [
    "Now, we can extend the above function's functionality without modifying it by passing it to another function, as shown below."
   ]
  },
  {
   "cell_type": "code",
   "execution_count": 29,
   "id": "d1ed0504",
   "metadata": {},
   "outputs": [],
   "source": [
    "def mydecorator(fn):\n",
    "    \n",
    "    fn()\n",
    "    \n",
    "    print('clase de Fisica Computacional 2.')"
   ]
  },
  {
   "cell_type": "code",
   "execution_count": 30,
   "id": "4f1376c1",
   "metadata": {},
   "outputs": [
    {
     "name": "stdout",
     "output_type": "stream",
     "text": [
      "Hola, clase de Fisica Computacional 2.\n"
     ]
    }
   ],
   "source": [
    "# We pass greet as fn.\n",
    "\n",
    "mydecorator(greet)  #output"
   ]
  },
  {
   "cell_type": "markdown",
   "id": "9c2d7d67",
   "metadata": {},
   "source": [
    "Above, the **mydecorator()** function takes a function as an argument. It calls the argument function and also prints some additional text. Thus, it extends the functionality of the **greet()** function without modifying it. However, it is not the actual decorator.\n",
    "\n",
    "The **mydecorator()** is not a decorator in Python. The decorator in Python can be defined over any appropriate function using the **@decorator_function_name** syntax to extend the functionality of the underlying function.\n",
    "\n",
    "The following defines the decorator for the above greet() function."
   ]
  },
  {
   "cell_type": "code",
   "execution_count": 31,
   "id": "87a0b8c0",
   "metadata": {},
   "outputs": [],
   "source": [
    "def mydecorator(fn):\n",
    "    \n",
    "    def inner_function():        \n",
    "        fn()\n",
    "        print('clase de Fisica Computacional 2.')\n",
    "        \n",
    "    return inner_function"
   ]
  },
  {
   "cell_type": "markdown",
   "id": "faefeb62",
   "metadata": {},
   "source": [
    "- The **mydecorator()** function is the decorator function that takes a function (any function that does not take any argument) as an argument.\n",
    "\n",
    "\n",
    "- The inner function **inner_function()** can access the outer function's argument, so it executes some code before or after to extend the functionality before calling the argument function.\n",
    "\n",
    "\n",
    "- The **mydecorator()**  function returns an inner function.\n",
    "\n",
    "Now, we can use mydecorator as a decorator to apply over a function that does not take any argument, as shown below."
   ]
  },
  {
   "cell_type": "code",
   "execution_count": 32,
   "id": "575a1da5",
   "metadata": {},
   "outputs": [],
   "source": [
    "@mydecorator\n",
    "def greet():\n",
    "    \n",
    "    print('Hola, ', end='')"
   ]
  },
  {
   "cell_type": "markdown",
   "id": "5413a663",
   "metadata": {},
   "source": [
    "Now, calling the above greet() function will give the following output."
   ]
  },
  {
   "cell_type": "code",
   "execution_count": 33,
   "id": "9a92973b",
   "metadata": {},
   "outputs": [
    {
     "name": "stdout",
     "output_type": "stream",
     "text": [
      "Hola, clase de Fisica Computacional 2.\n"
     ]
    }
   ],
   "source": [
    "greet()  #output"
   ]
  },
  {
   "cell_type": "markdown",
   "id": "d6e1dd66",
   "metadata": {},
   "source": [
    "The mydecorator can be applied to any function that does not require any argument. For example:"
   ]
  },
  {
   "cell_type": "code",
   "execution_count": 34,
   "id": "b8ab0387",
   "metadata": {},
   "outputs": [],
   "source": [
    "@mydecorator\n",
    "def dosomething():\n",
    "    \n",
    "    print('Pueden usar decoradores para cualquier funcion, ', end='')"
   ]
  },
  {
   "cell_type": "code",
   "execution_count": 35,
   "id": "06bdfae7",
   "metadata": {},
   "outputs": [
    {
     "name": "stdout",
     "output_type": "stream",
     "text": [
      "Pueden usar decoradores para cualquier funcion, clase de Fisica Computacional 2.\n"
     ]
    }
   ],
   "source": [
    "dosomething()  #output: I am doing something. How are you?"
   ]
  },
  {
   "cell_type": "markdown",
   "id": "6575dab1",
   "metadata": {},
   "source": [
    "## C. Built-in Decorators\n",
    "\n",
    "\n",
    "Python library contains many built-in decorators as a shortcut of defining properties, class method, static methods, etc:"
   ]
  },
  {
   "cell_type": "markdown",
   "id": "4d4e4932",
   "metadata": {},
   "source": [
    "### @property\n",
    "\n",
    "Declares a method as a property's setter or getter methods.\n",
    "\n",
    "\n",
    "### @classmethod\n",
    "\n",
    "Declares a method as a class's method that can be called using the class name.\n",
    "\n",
    "### @staticmethod\n",
    "\n",
    "Declares a method as a static method."
   ]
  },
  {
   "cell_type": "markdown",
   "id": "f29d05c3",
   "metadata": {},
   "source": [
    "### 1. Python Property Decorator - @property\n",
    "\n",
    "The @property decorator is a built-in decorator in Python for the property() function.\n",
    "\n",
    "Use @property decorator on any method in the class to use the method as a property.\n",
    "\n",
    "You can use the following three decorators to define a property:\n",
    "\n",
    "- @property: Declares the method as a property.\n",
    "\n",
    "- @<property-name>.setter: Specifies the setter method for a property that sets the value to a property.\n",
    "    \n",
    "- @<property-name>.deleter: Specifies the delete method as a property that deletes a property.\n",
    "\n",
    "#### Declare a Property\n",
    "    \n",
    "The following declares the method as a property. This method must return the value of the property."
   ]
  },
  {
   "cell_type": "code",
   "execution_count": 36,
   "id": "839137b4",
   "metadata": {},
   "outputs": [],
   "source": [
    "class Student:\n",
    "\n",
    "    def __init__(self, name):\n",
    "        self.__name = name\n",
    "\n",
    "    @property\n",
    "    def name(self):\n",
    "        return self.__name"
   ]
  },
  {
   "cell_type": "markdown",
   "id": "7cff8792",
   "metadata": {},
   "source": [
    "Above, the **@property** decorator is applied to the **name()** method.\n",
    "\n",
    "The **name()** method returns the private instance attribute value __name.\n",
    "\n",
    "So, we can now use the **name()** method as a property to get the value of the __name attribute, as shown below."
   ]
  },
  {
   "cell_type": "code",
   "execution_count": 37,
   "id": "a5a29e81",
   "metadata": {},
   "outputs": [
    {
     "name": "stdout",
     "output_type": "stream",
     "text": [
      "Csenge\n"
     ]
    }
   ],
   "source": [
    "s = Student('Csenge')\n",
    "\n",
    "print(s.name)  #'Csenge'"
   ]
  },
  {
   "cell_type": "code",
   "execution_count": 38,
   "id": "e1715579",
   "metadata": {},
   "outputs": [
    {
     "ename": "AttributeError",
     "evalue": "can't set attribute",
     "output_type": "error",
     "traceback": [
      "\u001b[0;31m---------------------------------------------------------------------------\u001b[0m",
      "\u001b[0;31mAttributeError\u001b[0m                            Traceback (most recent call last)",
      "Cell \u001b[0;32mIn[38], line 1\u001b[0m\n\u001b[0;32m----> 1\u001b[0m s\u001b[38;5;241m.\u001b[39mname \u001b[38;5;241m=\u001b[39m \u001b[38;5;124m\"\u001b[39m\u001b[38;5;124mPhilip\u001b[39m\u001b[38;5;124m\"\u001b[39m\n",
      "\u001b[0;31mAttributeError\u001b[0m: can't set attribute"
     ]
    }
   ],
   "source": [
    "s.name = \"Philip\""
   ]
  },
  {
   "cell_type": "markdown",
   "id": "348b7eea",
   "metadata": {},
   "source": [
    "#### Property Setter\n",
    "\n",
    "Above, we defined the **name()** method as a property.\n",
    "\n",
    "We can only access the value of the name property but cannot modify it.\n",
    "\n",
    "To modify the property value, we must define the setter method for the name property using @property-name.setter decorator, as shown below."
   ]
  },
  {
   "cell_type": "code",
   "execution_count": 39,
   "id": "5ead255b",
   "metadata": {},
   "outputs": [],
   "source": [
    "class Student:\n",
    "\n",
    "    def __init__(self, name):\n",
    "        self.__name = name\n",
    "\n",
    "    @property\n",
    "    def name(self):\n",
    "        return self.__name\n",
    "\n",
    "    @name.setter   #property-name.setter decorator\n",
    "    def name(self, value):\n",
    "        self.__name = value"
   ]
  },
  {
   "cell_type": "markdown",
   "id": "39fddb94",
   "metadata": {},
   "source": [
    "Above, we have two overloads of the **name()** method: one is for the getter and another is the setter method.\n",
    "\n",
    "The setter method must have the value argument that can be used to assign to the underlying private attribute.\n",
    "\n",
    "Now, we can retrieve and modify the property value, as shown below."
   ]
  },
  {
   "cell_type": "code",
   "execution_count": 40,
   "id": "593e77a8",
   "metadata": {},
   "outputs": [
    {
     "name": "stdout",
     "output_type": "stream",
     "text": [
      "Csenge\n",
      "Philip\n"
     ]
    }
   ],
   "source": [
    "s = Student('Csenge')\n",
    "\n",
    "print(s.name)  #'Csenge'\n",
    "\n",
    "s.name = \"Philip\"\n",
    "\n",
    "print(s.name)  #'Philip'"
   ]
  },
  {
   "cell_type": "markdown",
   "id": "d85c7d79",
   "metadata": {},
   "source": [
    "#### Property Deleter\n",
    "\n",
    "Use the **@property-name.deleter** decorator to define the method that deletes a property, as shown below.\n",
    "\n",
    "The deleter would be invoked when you delete the property using keyword **del**.\n",
    "\n",
    "Once you delete a property, you cannot access it again using the same instance."
   ]
  },
  {
   "cell_type": "code",
   "execution_count": 36,
   "id": "7f88b10b",
   "metadata": {},
   "outputs": [],
   "source": [
    "class Student:\n",
    "    def __init__(self, name):\n",
    "        self.__name = name\n",
    "\n",
    "    @property\n",
    "    def name(self):\n",
    "        return self.__name\n",
    "    \n",
    "    @name.setter\n",
    "    def name(self, value):\n",
    "        self.__name=value\n",
    "    \n",
    "    @name.deleter   #property-name.deleter decorator\n",
    "    def name(self):\n",
    "        print('Deleting..')\n",
    "        del self.__name"
   ]
  },
  {
   "cell_type": "code",
   "execution_count": 37,
   "id": "677abd23",
   "metadata": {},
   "outputs": [
    {
     "name": "stdout",
     "output_type": "stream",
     "text": [
      "Steve\n",
      "Deleting..\n"
     ]
    },
    {
     "ename": "AttributeError",
     "evalue": "'Student' object has no attribute '_Student__name'",
     "output_type": "error",
     "traceback": [
      "\u001b[0;31m---------------------------------------------------------------------------\u001b[0m",
      "\u001b[0;31mAttributeError\u001b[0m                            Traceback (most recent call last)",
      "Cell \u001b[0;32mIn[37], line 7\u001b[0m\n\u001b[1;32m      3\u001b[0m \u001b[38;5;28mprint\u001b[39m(std\u001b[38;5;241m.\u001b[39mname)\n\u001b[1;32m      5\u001b[0m \u001b[38;5;28;01mdel\u001b[39;00m std\u001b[38;5;241m.\u001b[39mname\n\u001b[0;32m----> 7\u001b[0m \u001b[38;5;28mprint\u001b[39m(\u001b[43mstd\u001b[49m\u001b[38;5;241;43m.\u001b[39;49m\u001b[43mname\u001b[49m)\n",
      "Cell \u001b[0;32mIn[36], line 7\u001b[0m, in \u001b[0;36mStudent.name\u001b[0;34m(self)\u001b[0m\n\u001b[1;32m      5\u001b[0m \u001b[38;5;129m@property\u001b[39m\n\u001b[1;32m      6\u001b[0m \u001b[38;5;28;01mdef\u001b[39;00m \u001b[38;5;21mname\u001b[39m(\u001b[38;5;28mself\u001b[39m):\n\u001b[0;32m----> 7\u001b[0m     \u001b[38;5;28;01mreturn\u001b[39;00m \u001b[38;5;28;43mself\u001b[39;49m\u001b[38;5;241;43m.\u001b[39;49m\u001b[43m__name\u001b[49m\n",
      "\u001b[0;31mAttributeError\u001b[0m: 'Student' object has no attribute '_Student__name'"
     ]
    }
   ],
   "source": [
    "std = Student('Steve')\n",
    "\n",
    "print(std.name)\n",
    "\n",
    "del std.name\n",
    "\n",
    "print(std.name)  #AttributeError"
   ]
  },
  {
   "cell_type": "markdown",
   "id": "306b62e9",
   "metadata": {},
   "source": [
    "### 2. Python Class Method Decorator @classmethod\n",
    "\n",
    "In Python, the **@classmethod** decorator is used to declare a method in the class as a class method that can be called using **ClassName.MethodName()**.\n",
    "\n",
    "The class method can also be called using an object of the class.\n",
    "\n",
    "The **@classmethod** is an alternative of the classmethod() function.\n",
    "\n",
    "It is recommended to use the **@classmethod** decorator instead of the function because it simplifies the syntax.\n",
    "\n",
    "### @classmethod characteristics:\n",
    "\n",
    "- Declares a class method.\n",
    "\n",
    "- The first parameter must be **cls**, which can be used to access class attributes.\n",
    "\n",
    "- The class method can only access the class attributes but **not** the instance attributes.\n",
    "\n",
    "- The class method can be called using **ClassName.MethodName()** and also using object.\n",
    "\n",
    "- It can return an object of the class.\n",
    "\n",
    "The following example declares a class method."
   ]
  },
  {
   "cell_type": "code",
   "execution_count": 38,
   "id": "08c49035",
   "metadata": {},
   "outputs": [],
   "source": [
    "class Student:\n",
    "    \n",
    "    name = 'unknown' # class attribute\n",
    "    \n",
    "    def __init__(self):\n",
    "        \n",
    "        self.age = 20  # instance attribute\n",
    "\n",
    "    @classmethod\n",
    "    def tostring(cls):\n",
    "        \n",
    "        print('Student Class Attributes: name=', cls.name, 'age=', cls.age)"
   ]
  },
  {
   "cell_type": "code",
   "execution_count": 39,
   "id": "63dfb490",
   "metadata": {},
   "outputs": [
    {
     "ename": "AttributeError",
     "evalue": "type object 'Student' has no attribute 'age'",
     "output_type": "error",
     "traceback": [
      "\u001b[0;31m---------------------------------------------------------------------------\u001b[0m",
      "\u001b[0;31mAttributeError\u001b[0m                            Traceback (most recent call last)",
      "Cell \u001b[0;32mIn[39], line 1\u001b[0m\n\u001b[0;32m----> 1\u001b[0m \u001b[43mStudent\u001b[49m\u001b[38;5;241;43m.\u001b[39;49m\u001b[43mtostring\u001b[49m\u001b[43m(\u001b[49m\u001b[43m)\u001b[49m\n",
      "Cell \u001b[0;32mIn[38], line 12\u001b[0m, in \u001b[0;36mStudent.tostring\u001b[0;34m(cls)\u001b[0m\n\u001b[1;32m      9\u001b[0m \u001b[38;5;129m@classmethod\u001b[39m\n\u001b[1;32m     10\u001b[0m \u001b[38;5;28;01mdef\u001b[39;00m \u001b[38;5;21mtostring\u001b[39m(\u001b[38;5;28mcls\u001b[39m):\n\u001b[0;32m---> 12\u001b[0m     \u001b[38;5;28mprint\u001b[39m(\u001b[38;5;124m'\u001b[39m\u001b[38;5;124mStudent Class Attributes: name=\u001b[39m\u001b[38;5;124m'\u001b[39m, \u001b[38;5;28mcls\u001b[39m\u001b[38;5;241m.\u001b[39mname, \u001b[38;5;124m'\u001b[39m\u001b[38;5;124mage=\u001b[39m\u001b[38;5;124m'\u001b[39m, \u001b[38;5;28;43mcls\u001b[39;49m\u001b[38;5;241;43m.\u001b[39;49m\u001b[43mage\u001b[49m)\n",
      "\u001b[0;31mAttributeError\u001b[0m: type object 'Student' has no attribute 'age'"
     ]
    }
   ],
   "source": [
    "Student.tostring()  #Student Class Attributes: name=unknown"
   ]
  },
  {
   "cell_type": "markdown",
   "id": "0147d2d9",
   "metadata": {},
   "source": [
    "Above, the Student class contains a class attribute name and an instance attribute age.\n",
    "\n",
    "The **tostring()** method is decorated with the **@classmethod** decorator that makes it a class method, which can be called using the **Student.tostring()**.\n",
    "\n",
    "You can call the class method as **classname.method()** or using class object **object.method()**.\n",
    "\n",
    "#### Note: The first parameter of any class method must be cls that can be used to access the class's attributes. You can give any name to the first parameter instead of cls.\n",
    "\n",
    "The class method can only access class attributes, but not the instance attributes. It will raise an error if trying to access the instance attribute in the class method."
   ]
  },
  {
   "cell_type": "code",
   "execution_count": 40,
   "id": "35ff842d",
   "metadata": {},
   "outputs": [],
   "source": [
    "class Student:\n",
    "    name = 'unknown' # class attribute\n",
    "    def __init__(self):\n",
    "        self.age = 20  # instance attribute\n",
    "\n",
    "    @classmethod\n",
    "    def tostring(cls):\n",
    "        print('Student Class Attributes: name=',cls.name,', age=', cls.age)"
   ]
  },
  {
   "cell_type": "code",
   "execution_count": 41,
   "id": "3f96cd65",
   "metadata": {},
   "outputs": [
    {
     "ename": "AttributeError",
     "evalue": "type object 'Student' has no attribute 'age'",
     "output_type": "error",
     "traceback": [
      "\u001b[0;31m---------------------------------------------------------------------------\u001b[0m",
      "\u001b[0;31mAttributeError\u001b[0m                            Traceback (most recent call last)",
      "Cell \u001b[0;32mIn[41], line 1\u001b[0m\n\u001b[0;32m----> 1\u001b[0m \u001b[43mStudent\u001b[49m\u001b[38;5;241;43m.\u001b[39;49m\u001b[43mtostring\u001b[49m\u001b[43m(\u001b[49m\u001b[43m)\u001b[49m\n",
      "Cell \u001b[0;32mIn[40], line 8\u001b[0m, in \u001b[0;36mStudent.tostring\u001b[0;34m(cls)\u001b[0m\n\u001b[1;32m      6\u001b[0m \u001b[38;5;129m@classmethod\u001b[39m\n\u001b[1;32m      7\u001b[0m \u001b[38;5;28;01mdef\u001b[39;00m \u001b[38;5;21mtostring\u001b[39m(\u001b[38;5;28mcls\u001b[39m):\n\u001b[0;32m----> 8\u001b[0m     \u001b[38;5;28mprint\u001b[39m(\u001b[38;5;124m'\u001b[39m\u001b[38;5;124mStudent Class Attributes: name=\u001b[39m\u001b[38;5;124m'\u001b[39m,\u001b[38;5;28mcls\u001b[39m\u001b[38;5;241m.\u001b[39mname,\u001b[38;5;124m'\u001b[39m\u001b[38;5;124m, age=\u001b[39m\u001b[38;5;124m'\u001b[39m, \u001b[38;5;28;43mcls\u001b[39;49m\u001b[38;5;241;43m.\u001b[39;49m\u001b[43mage\u001b[49m)\n",
      "\u001b[0;31mAttributeError\u001b[0m: type object 'Student' has no attribute 'age'"
     ]
    }
   ],
   "source": [
    "Student.tostring() #calling class method"
   ]
  },
  {
   "cell_type": "markdown",
   "id": "8c40b1d6",
   "metadata": {},
   "source": [
    "The class method can also be used as a factory method to get an object of the class, as shown below."
   ]
  },
  {
   "cell_type": "code",
   "execution_count": 42,
   "id": "10d7dfe7",
   "metadata": {},
   "outputs": [],
   "source": [
    "class Student:\n",
    "    def __init__(self, name, age):\n",
    "        self.name = name  # instance attribute\n",
    "        self.age = age # instance attribute\n",
    "\n",
    "    @classmethod\n",
    "    def getobject(cls):\n",
    "        return cls('Steve', 25)"
   ]
  },
  {
   "cell_type": "code",
   "execution_count": 43,
   "id": "ff7264d3",
   "metadata": {},
   "outputs": [
    {
     "name": "stdout",
     "output_type": "stream",
     "text": [
      "Steve\n",
      "25\n"
     ]
    }
   ],
   "source": [
    "std = Student.getobject()\n",
    "\n",
    "print(std.name)  #'Steve'    \n",
    "print(std.age)   #25"
   ]
  },
  {
   "cell_type": "markdown",
   "id": "a99059ba",
   "metadata": {},
   "source": [
    "### 3. Static Method using @staticmethod Decorator in Python\n",
    "\n",
    "The @staticmethod is a built-in decorator that defines a static method in the class in Python. A static method doesn't receive any reference argument whether it is called by an instance of a class or by the class itself.\n",
    "\n",
    "#### @staticmethod characteristics\n",
    "\n",
    "- Declares a static method in the class.\n",
    "- It **cannot** have **cls** or **self** parameter.\n",
    "- The static method cannot access the class attributes or the instance attributes.\n",
    "- The static method can be called using **ClassName.MethodName()** and also using **object.MethodName()**.\n",
    "- It can return an object of the class.\n",
    "\n",
    "\n",
    "The following example demonstrates how to define a static method in the class:"
   ]
  },
  {
   "cell_type": "code",
   "execution_count": 44,
   "id": "a15ceec2",
   "metadata": {},
   "outputs": [],
   "source": [
    "class Student:\n",
    "    name = 'unknown' # class attribute\n",
    "    \n",
    "    def __init__(self):\n",
    "        self.age = 20  # instance attribute\n",
    "\n",
    "    @staticmethod\n",
    "    def tostring():\n",
    "        print('YT Student Class')"
   ]
  },
  {
   "cell_type": "markdown",
   "id": "c900831f",
   "metadata": {},
   "source": [
    "Above, the **Student** class declares the **tostring()** method as a static method using the **@staticmethod** decorator. Note that it cannot have **self** or **cls** parameter.\n",
    "\n",
    "The static method can be called using the **ClassName.MethodName()** or **object.MethodName()**, as shown below."
   ]
  },
  {
   "cell_type": "code",
   "execution_count": 45,
   "id": "d7f2bb2f",
   "metadata": {},
   "outputs": [
    {
     "name": "stdout",
     "output_type": "stream",
     "text": [
      "YT Student Class\n",
      "YT Student Class\n",
      "YT Student Class\n"
     ]
    }
   ],
   "source": [
    "#calling static method    \n",
    "Student.tostring()   #'YT Student Class'\n",
    "Student().tostring() #'YT Student Class'\n",
    "\n",
    "std = Student()\n",
    "std.tostring()     #'YT Student Class'"
   ]
  },
  {
   "cell_type": "markdown",
   "id": "5b268aa5",
   "metadata": {},
   "source": [
    "The static method cannot access the class attributes or instance attributes. It will raise an error if try to do so."
   ]
  },
  {
   "cell_type": "code",
   "execution_count": 46,
   "id": "a1debc65",
   "metadata": {},
   "outputs": [],
   "source": [
    "class Student:\n",
    "    name = 'unknown' # class attribute\n",
    "    \n",
    "    def __init__(self):\n",
    "        self.age = 20  # instance attribute\n",
    "\n",
    "    @staticmethod\n",
    "    def tostring():\n",
    "        print('name=',name,'age=',self.age)\n",
    "\n",
    "Student.tostring()   #error"
   ]
  },
  {
   "cell_type": "code",
   "execution_count": 47,
   "id": "77d1219f",
   "metadata": {},
   "outputs": [
    {
     "ename": "NameError",
     "evalue": "name 'name' is not defined",
     "output_type": "error",
     "traceback": [
      "\u001b[0;31m---------------------------------------------------------------------------\u001b[0m",
      "\u001b[0;31mNameError\u001b[0m                                 Traceback (most recent call last)",
      "Cell \u001b[0;32mIn[47], line 1\u001b[0m\n\u001b[0;32m----> 1\u001b[0m \u001b[43mStudent\u001b[49m\u001b[38;5;241;43m.\u001b[39;49m\u001b[43mtostring\u001b[49m\u001b[43m(\u001b[49m\u001b[43m)\u001b[49m\n",
      "Cell \u001b[0;32mIn[46], line 9\u001b[0m, in \u001b[0;36mStudent.tostring\u001b[0;34m()\u001b[0m\n\u001b[1;32m      7\u001b[0m \u001b[38;5;129m@staticmethod\u001b[39m\n\u001b[1;32m      8\u001b[0m \u001b[38;5;28;01mdef\u001b[39;00m \u001b[38;5;21mtostring\u001b[39m():\n\u001b[0;32m----> 9\u001b[0m     \u001b[38;5;28mprint\u001b[39m(\u001b[38;5;124m'\u001b[39m\u001b[38;5;124mname=\u001b[39m\u001b[38;5;124m'\u001b[39m,\u001b[43mname\u001b[49m,\u001b[38;5;124m'\u001b[39m\u001b[38;5;124mage=\u001b[39m\u001b[38;5;124m'\u001b[39m,\u001b[38;5;28mself\u001b[39m\u001b[38;5;241m.\u001b[39mage)\n",
      "\u001b[0;31mNameError\u001b[0m: name 'name' is not defined"
     ]
    }
   ],
   "source": [
    "\n",
    "Student.tostring()   #error"
   ]
  },
  {
   "cell_type": "code",
   "execution_count": 62,
   "id": "8705db79-b342-4eee-9b03-6436913b4182",
   "metadata": {},
   "outputs": [],
   "source": [
    "class Student:\n",
    "    name = 'unknown'  # class attribute\n",
    "\n",
    "    def __init__(self, name=\"unknown\", age=20):\n",
    "        self.name = name  # Instance attribute\n",
    "        self.age = 20  # instance attribute\n",
    "\n",
    "    @staticmethod\n",
    "    def tostring(student_instance=None): # added an optional instance parameter\n",
    "        print('name=', Student.name, end='') # used Student.name\n",
    "        if student_instance:\n",
    "            print('name=', student_instance.name, ', age=', student_instance.age)\n",
    "        else:\n",
    "            print() # add a newline if there is no instance."
   ]
  },
  {
   "cell_type": "code",
   "execution_count": 63,
   "id": "66429892-d473-45a3-9fba-db4c8674a10c",
   "metadata": {},
   "outputs": [
    {
     "name": "stdout",
     "output_type": "stream",
     "text": [
      "name= unknown\n",
      "name= unknownname= unknown , age= 20\n",
      "name= unknownname= Phillip , age= 20\n"
     ]
    }
   ],
   "source": [
    "# Calling the static method (without instance):\n",
    "Student.tostring(\"\")\n",
    "\n",
    "#calling the static method with an instance:\n",
    "student1 = Student()\n",
    "Student.tostring(student1)\n",
    "\n",
    "#calling the static method with an instance:\n",
    "student1 = Student(\"Phillip\", 19)\n",
    "Student.tostring(student1)"
   ]
  },
  {
   "cell_type": "code",
   "execution_count": 97,
   "id": "317ba5a6-fedd-42ff-9a74-665d8bf136af",
   "metadata": {},
   "outputs": [],
   "source": [
    "class MathUtils:\n",
    "    @staticmethod\n",
    "    def add(x, y):\n",
    "        return x + y\n",
    "\n",
    "    @staticmethod\n",
    "    def multiply(x, y):\n",
    "        return x * y"
   ]
  },
  {
   "cell_type": "code",
   "execution_count": 98,
   "id": "6d0d0f9d-c08a-4d57-bb48-e1f521622f6f",
   "metadata": {},
   "outputs": [
    {
     "name": "stdout",
     "output_type": "stream",
     "text": [
      "8\n"
     ]
    }
   ],
   "source": [
    "print(MathUtils.add(5, 3))  # Access without creating an instance"
   ]
  },
  {
   "cell_type": "code",
   "execution_count": 99,
   "id": "682b1b4a-0833-49bc-bef6-680ed4df1fb8",
   "metadata": {},
   "outputs": [],
   "source": [
    "class Date:\n",
    "    def __init__(self, year, month, day):\n",
    "        self.year = year\n",
    "        self.month = month\n",
    "        self.day = day\n",
    "\n",
    "    @staticmethod\n",
    "    def from_string(date_string):\n",
    "        year, month, day = map(int, date_string.split('-'))\n",
    "        return Date(year, month, day)"
   ]
  },
  {
   "cell_type": "code",
   "execution_count": 100,
   "id": "14c4ca68-cc24-452a-89bd-dff54ccc1c11",
   "metadata": {},
   "outputs": [
    {
     "name": "stdout",
     "output_type": "stream",
     "text": [
      "2024\n"
     ]
    }
   ],
   "source": [
    "date = Date.from_string(\"2024-10-27\")\n",
    "print(date.year)"
   ]
  },
  {
   "cell_type": "markdown",
   "id": "dbf603dd",
   "metadata": {},
   "source": [
    "### @classmethod vs @staticmethod\n",
    "\n",
    "The following table lists the difference between the class method and the static method:\n",
    "\n",
    "#### @classmethod\n",
    "\n",
    "- Declares a class method.\t\n",
    "- It can access class attributes, but not the instance attributes.\t\n",
    "\n",
    "- It can be called using the ClassName.MethodName() or object.MethodName().\t\n",
    "\n",
    "- It can be used to declare a factory method that returns objects of the class.\t\n",
    "\n",
    "#### @staticmethod\n",
    "- Declares a static method.\n",
    "\n",
    "- It does not have implicit access to attributes like instance methods or class methods.\n",
    "\n",
    "- It can be called using the ClassName.MethodName() or object.MethodName().\n",
    "\n",
    "- It cannot return an object of the class. They must do so explicitly using the class name (e.g., MyClass.class_var)"
   ]
  },
  {
   "cell_type": "code",
   "execution_count": 95,
   "id": "4b5323f8-7ff2-4a18-8ba8-59d392e386d1",
   "metadata": {},
   "outputs": [],
   "source": [
    "class MyClass:\n",
    "    class_var = \"Class\"\n",
    "\n",
    "    @staticmethod\n",
    "    def static_method(x):\n",
    "        print(\"Static:\", x, MyClass.class_var)\n",
    "\n",
    "    @classmethod\n",
    "    def class_method(cls, x):\n",
    "        print(\"Class:\", x, cls.class_var)\n",
    "        cls.class_var = \"New Class\"\n"
   ]
  },
  {
   "cell_type": "code",
   "execution_count": 96,
   "id": "7fba5b53-ef59-49cf-aae3-22b64436c03b",
   "metadata": {},
   "outputs": [
    {
     "name": "stdout",
     "output_type": "stream",
     "text": [
      "Static: 1 Class\n",
      "Class: 2 Class\n",
      "New Class\n"
     ]
    }
   ],
   "source": [
    "MyClass.static_method(1)\n",
    "MyClass.class_method(2)\n",
    "print(MyClass.class_var)"
   ]
  }
 ],
 "metadata": {
  "kernelspec": {
   "display_name": "Python 3 (ipykernel)",
   "language": "python",
   "name": "python3"
  },
  "language_info": {
   "codemirror_mode": {
    "name": "ipython",
    "version": 3
   },
   "file_extension": ".py",
   "mimetype": "text/x-python",
   "name": "python",
   "nbconvert_exporter": "python",
   "pygments_lexer": "ipython3",
   "version": "3.9.18"
  }
 },
 "nbformat": 4,
 "nbformat_minor": 5
}
